{
 "cells": [
  {
   "cell_type": "markdown",
   "id": "f8585ec6-4cc2-4857-afa3-ed6fe4bb3e84",
   "metadata": {},
   "source": [
    "# Amazon S3"
   ]
  },
  {
   "cell_type": "code",
   "execution_count": 17,
   "id": "812dfe17",
   "metadata": {
    "tags": []
   },
   "outputs": [],
   "source": [
    "import boto3"
   ]
  },
  {
   "cell_type": "code",
   "execution_count": 19,
   "id": "9dfab898-b02f-47ed-99d5-c59b008fda76",
   "metadata": {
    "tags": []
   },
   "outputs": [],
   "source": [
    "session = boto3.Session(\n",
    "    aws_access_key_id='',\n",
    "    aws_secret_access_key=''\n",
    ")"
   ]
  },
  {
   "cell_type": "code",
   "execution_count": 18,
   "id": "a8d02a15-7d17-4789-a9a7-644fb2c837fb",
   "metadata": {
    "tags": []
   },
   "outputs": [],
   "source": [
    "s3_client = boto3.client('s3')"
   ]
  },
  {
   "cell_type": "code",
   "execution_count": 14,
   "id": "c2c6bfdd-24f6-4c89-be6c-65bc5378bf34",
   "metadata": {
    "tags": []
   },
   "outputs": [],
   "source": [
    "s3_client.download_file('aaaaaaaaaaaaab', 'test.txt', 'test.txt')\n"
   ]
  },
  {
   "cell_type": "code",
   "execution_count": 21,
   "id": "e75edaec-3224-450b-b8b9-b6c9e61dd8bc",
   "metadata": {
    "tags": []
   },
   "outputs": [
    {
     "name": "stdout",
     "output_type": "stream",
     "text": [
      "test\n"
     ]
    }
   ],
   "source": [
    "print(open('test.txt').read())"
   ]
  },
  {
   "cell_type": "code",
   "execution_count": 24,
   "id": "4c6e9da9-4608-42ee-bf66-b3b4598ca60a",
   "metadata": {
    "tags": []
   },
   "outputs": [],
   "source": [
    "from botocore.exceptions import ClientError"
   ]
  },
  {
   "cell_type": "code",
   "execution_count": 31,
   "id": "272baf86-616d-4953-b60a-9106b4727b0c",
   "metadata": {
    "tags": []
   },
   "outputs": [],
   "source": [
    "def get_secret(secret_name, region_name):\n",
    "    session = boto3.session.Session()\n",
    "    client = session.client(\n",
    "        service_name = 'secretsmanager',\n",
    "        region_name = region_name\n",
    "    )\n",
    "    \n",
    "    try:\n",
    "        get_secret_value_response = client.get_secret_value(\n",
    "        SecretId=secret_name\n",
    "        )\n",
    "    except ClientError as e:\n",
    "        raise e\n",
    "    return get_secret_value_response['SecretString']"
   ]
  },
  {
   "cell_type": "code",
   "execution_count": 32,
   "id": "78718bd4-575b-4ba5-a45b-a7711fbc5cd9",
   "metadata": {
    "tags": []
   },
   "outputs": [
    {
     "data": {
      "text/plain": [
       "'adam'"
      ]
     },
     "execution_count": 32,
     "metadata": {},
     "output_type": "execute_result"
    }
   ],
   "source": [
    "get_secret(secret_name=\"my_name\", region_name=\"us-east-1\")"
   ]
  },
  {
   "cell_type": "code",
   "execution_count": 42,
   "id": "61f6e098-522b-42c3-8d76-117812667811",
   "metadata": {
    "tags": []
   },
   "outputs": [],
   "source": [
    "import json"
   ]
  },
  {
   "cell_type": "code",
   "execution_count": 50,
   "id": "67dba7f3",
   "metadata": {
    "tags": []
   },
   "outputs": [
    {
     "name": "stdout",
     "output_type": "stream",
     "text": [
      "myusername\n",
      "adam\n"
     ]
    }
   ],
   "source": [
    "x = get_secret(secret_name=\"userSecret\", region_name=\"us-east-1\")\n",
    "y = json.loads(x)\n",
    "print(y[\"username\"])\n",
    "print(y[\"password\"])"
   ]
  },
  {
   "cell_type": "markdown",
   "id": "7d2e53e4-7f8e-4f95-aef0-1e38aba7cb09",
   "metadata": {
    "tags": []
   },
   "source": [
    "# getpass"
   ]
  },
  {
   "cell_type": "code",
   "execution_count": 52,
   "id": "944b1db5-eca6-4686-b163-92d8989ab902",
   "metadata": {
    "tags": []
   },
   "outputs": [],
   "source": [
    "import getpass\n",
    " \n"
   ]
  },
  {
   "cell_type": "code",
   "execution_count": 54,
   "id": "5b85ec80-625a-43ba-9811-643d389a6052",
   "metadata": {
    "tags": []
   },
   "outputs": [
    {
     "name": "stdin",
     "output_type": "stream",
     "text": [
      "Access Key: ········\n",
      "Secret Access Key: ········\n"
     ]
    }
   ],
   "source": [
    "access_key_id = getpass.getpass(\"Access Key:\")\n",
    "secret_access_key_id = getpass.getpass(\"Secret Access Key:\")"
   ]
  },
  {
   "cell_type": "code",
   "execution_count": 55,
   "id": "ec9a209f-5c4a-4f5e-9505-62e5aab70ca8",
   "metadata": {
    "tags": []
   },
   "outputs": [],
   "source": [
    "session = boto3.Session(\n",
    "    aws_access_key_id=access_key_id,\n",
    "    aws_secret_access_key=secret_access_key_id\n",
    ")"
   ]
  },
  {
   "cell_type": "code",
   "execution_count": 58,
   "id": "87641fe3-aba5-4356-9e6f-92dfc3dbe903",
   "metadata": {
    "tags": []
   },
   "outputs": [],
   "source": [
    "s3_client.download_file('aaaaaaaaaaaaab', 'users.json', 'users.json')\n"
   ]
  },
  {
   "cell_type": "code",
   "execution_count": 83,
   "id": "f3a9e372-3edc-4657-b1fc-cf879736cabe",
   "metadata": {
    "tags": []
   },
   "outputs": [
    {
     "name": "stdout",
     "output_type": "stream",
     "text": [
      "family: Test1, nickname: test1\n",
      "family: Dough, nickname: aaa\n"
     ]
    }
   ],
   "source": [
    "users = json.loads(open('users.json').read())\n",
    "x = get_secret(secret_name=\"user_secret_exercise\", region_name=\"us-east-1\")\n",
    "y = json.loads(x)\n",
    "\n",
    "for u in users:\n",
    "    if u[\"user_id\"] == y[\"key-one\"] or u[\"user_id\"] == y[\"key-two\"]:\n",
    "        print(f'family: {u[\"family_name\"]}, nickname: {u[\"nickname\"]}')\n"
   ]
  },
  {
   "cell_type": "code",
   "execution_count": null,
   "id": "17dff42c-9f3a-4448-9f14-e1af2f0a56d7",
   "metadata": {},
   "outputs": [],
   "source": []
  }
 ],
 "metadata": {
  "kernelspec": {
   "display_name": "conda_tensorflow2_p310",
   "language": "python",
   "name": "conda_tensorflow2_p310"
  },
  "language_info": {
   "codemirror_mode": {
    "name": "ipython",
    "version": 3
   },
   "file_extension": ".py",
   "mimetype": "text/x-python",
   "name": "python",
   "nbconvert_exporter": "python",
   "pygments_lexer": "ipython3",
   "version": "3.10.14"
  }
 },
 "nbformat": 4,
 "nbformat_minor": 5
}
